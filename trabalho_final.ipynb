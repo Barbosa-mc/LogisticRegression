{
 "cells": [
  {
   "cell_type": "code",
   "execution_count": 591,
   "metadata": {},
   "outputs": [],
   "source": [
    "# Importando bibliotecas e base de dados\n",
    "import pandas as pd\n",
    "import numpy as np\n",
    "from sklearn.model_selection import train_test_split\n",
    "from sklearn.linear_model import LogisticRegression\n",
    "from sklearn import metrics\n",
    "import seaborn as sn\n",
    "import matplotlib.pyplot as plt\n",
    "import scipy.stats as stats\n",
    "import csv\n",
    "\n",
    "jogo = pd.read_csv(\"Projeto_SAS_Cartola_v3.csv\", encoding='latin-1', sep=';')\n",
    "# jogo"
   ]
  },
  {
   "cell_type": "code",
   "execution_count": 592,
   "metadata": {},
   "outputs": [],
   "source": [
    "# Trocando vírgula por ponto para análise do algoritmo\n",
    "jogo['time_media_gol'] = jogo['time_media_gol'].str.replace(',','.').astype(np.float64)\n",
    "jogo['time_media_lat'] = jogo['time_media_lat'].str.replace(',','.').astype(np.float64)\n",
    "jogo['time_media_zag'] = jogo['time_media_zag'].str.replace(',','.').astype(np.float64)\n",
    "jogo['time_media_mei'] = jogo['time_media_mei'].str.replace(',','.').astype(np.float64)\n",
    "jogo['time_media_ata'] = jogo['time_media_ata'].str.replace(',','.').astype(np.float64)\n",
    "jogo['time_adversario_media_gol'] = jogo['time_adversario_media_gol'].str.replace(',','.').astype(np.float64)\n",
    "jogo['time_adversario_media_lat'] = jogo['time_adversario_media_lat'].str.replace(',','.').astype(np.float64)\n",
    "jogo['time_adversario_media_zag'] = jogo['time_adversario_media_zag'].str.replace(',','.').astype(np.float64)\n",
    "jogo['time_adversario_media_mei'] = jogo['time_adversario_media_mei'].str.replace(',','.').astype(np.float64)\n",
    "jogo['time_adversario_media_ata'] = jogo['time_adversario_media_ata'].str.replace(',','.').astype(np.float64)\n",
    "# jogo"
   ]
  },
  {
   "cell_type": "code",
   "execution_count": 593,
   "metadata": {},
   "outputs": [],
   "source": [
    "# Trocando valores nulos por 0.0 e excluindo linhas com valores nulos (não existirá, somente para certeza)\n",
    "jogo = jogo.fillna(0)\n",
    "jogo = jogo[jogo.notna()]\n",
    "# jogo"
   ]
  },
  {
   "cell_type": "code",
   "execution_count": 594,
   "metadata": {},
   "outputs": [
    {
     "name": "stdout",
     "output_type": "stream",
     "text": [
      "time_id\n",
      "(0.0631803653634625, 0.16697649364347147)\n",
      "time_posicao\n",
      "(0.2895075000056933, 1.0115344306906144e-10)\n",
      "time_mando_campo\n",
      "(-0.19990048175259711, 1.020431154017662e-05)\n",
      "time_Rodada\n",
      "(-8.673617379884035e-18, 1.0000000000001572)\n",
      "time_rodada_anterior\n",
      "(-8.673617379884035e-18, 1.0000000000001572)\n",
      "time_resultado_anterior\n",
      "(1.0, 0.0)\n",
      "time_mando_campo_anterior\n",
      "(0.5070703143740871, 1.0089590003037417e-32)\n",
      "time_gols\n",
      "(-0.317239638518491, 1.1037711345052404e-12)\n",
      "time_PTS\n",
      "(0.10424360689633246, 0.022363631356587452)\n",
      "time_PJ\n",
      "(0.2616039793390616, 5.950719302359172e-09)\n",
      "time_JG\n",
      "(0.05859093775392097, 0.20004713641921015)\n",
      "time_E\n",
      "(0.22227166840025908, 8.712390294448477e-07)\n",
      "time_D\n",
      "(0.35492664937028995, 1.0721156336766665e-15)\n",
      "time_GP\n",
      "(0.1541530604934091, 0.0007020030042568699)\n",
      "time_GC\n",
      "(0.35445515230178104, 1.176289243678709e-15)\n",
      "time_SG\n",
      "(-0.2929905803126004, 5.887161298436649e-11)\n",
      "time_preco_medio_tec\n",
      "(0.2379120824809367, 1.329539809833889e-07)\n",
      "time_media_gol\n",
      "(0.09265870329082894, 0.04244560180769528)\n",
      "time_media_lat\n",
      "(0.09354479473526497, 0.04049985913892093)\n",
      "time_media_zag\n",
      "(0.060328783166698055, 0.18700423493920482)\n",
      "time_media_mei\n",
      "(0.21336679390901628, 2.395021908951645e-06)\n",
      "time_media_ata\n",
      "(0.2461552318260195, 4.6759088897559485e-08)\n",
      "time_media_tec\n",
      "(0.1706100603085699, 0.00017285490910305034)\n",
      "time_adversario_id\n",
      "(0.050863892863071566, 0.26605793740581957)\n",
      "time_adversario_Posicao\n",
      "(-0.05114422839266501, 0.26342847345880593)\n",
      "time_adversario_resultado_anterior\n",
      "(-0.3632416787264834, 2.0365267904523585e-16)\n",
      "time_adversario_mando_campo_anterior\n",
      "(0.23170762709809278, 2.847870131446479e-07)\n",
      "time_adversario_gols\n",
      "(0.6573523544223279, 1.0274990955148511e-60)\n",
      "time_adversario_PTS\n",
      "(0.36715797826373686, 9.1573351715483e-17)\n",
      "time_adversario_PJ\n",
      "(0.2616039793390616, 5.950719302359172e-09)\n",
      "time_adversario_JG\n",
      "(0.37776726676029126, 9.937159442698998e-18)\n",
      "time_adversario_E\n",
      "(0.21562843049041314, 1.859999150327883e-06)\n",
      "time_adversario_D\n",
      "(0.05834247902270252, 0.20196469118553054)\n",
      "time_adversario_GP\n",
      "(0.3285648455552172, 1.515830356134962e-13)\n",
      "time_adversario_GC\n",
      "(0.1357707126357758, 0.0028764228626322087)\n",
      "time_adversario_SG\n",
      "(0.2929905803126004, 5.887161298436649e-11)\n",
      "time_adversario_preco_medio_tec\n",
      "(0.5230247341567094, 4.6620728683990056e-35)\n",
      "time_adversario_media_gol\n",
      "(0.3048628980674627, 8.796722860533704e-12)\n",
      "time_adversario_media_lat\n",
      "(0.40208874860698685, 4.452751385327695e-20)\n",
      "time_adversario_media_zag\n",
      "(0.39701219349955064, 1.4291323773360255e-19)\n",
      "time_adversario_media_mei\n",
      "(0.38818481926056425, 1.0354851036720156e-18)\n",
      "time_adversario_media_ata\n",
      "(0.2576958141772261, 1.0153974187115876e-08)\n",
      "time_adversario_media_tec\n",
      "(0.49602899886959695, 3.542834058976089e-31)\n"
     ]
    }
   ],
   "source": [
    "# Coeficiente de Pearson\n",
    "lista = []\n",
    "for i in jogo:\n",
    "    if jogo[i].dtypes != 'object':\n",
    "        lista.append(i)\n",
    "\n",
    "for i in lista:\n",
    "    print(i)\n",
    "    x = stats.pearsonr(jogo['time_resultado_anterior'], jogo[i])\n",
    "    print(x)\n"
   ]
  },
  {
   "cell_type": "code",
   "execution_count": 595,
   "metadata": {},
   "outputs": [
    {
     "name": "stdout",
     "output_type": "stream",
     "text": [
      "<class 'pandas.core.frame.DataFrame'>\n",
      "RangeIndex: 480 entries, 0 to 479\n",
      "Data columns (total 55 columns):\n",
      " #   Column                                Non-Null Count  Dtype  \n",
      "---  ------                                --------------  -----  \n",
      " 0   time_id                               480 non-null    int64  \n",
      " 1   Time                                  480 non-null    object \n",
      " 2   time_posicao                          480 non-null    int64  \n",
      " 3   time_mando_campo                      480 non-null    int64  \n",
      " 4   time_Rodada                           480 non-null    int64  \n",
      " 5   time_rodada_anterior                  480 non-null    int64  \n",
      " 6   time_resultado_anterior               480 non-null    float64\n",
      " 7   time_mando_campo_anterior             480 non-null    float64\n",
      " 8   time_gols                             480 non-null    float64\n",
      " 9   time_PTS                              480 non-null    float64\n",
      " 10  time_PJ                               480 non-null    float64\n",
      " 11  time_JG                               480 non-null    float64\n",
      " 12  time_E                                480 non-null    float64\n",
      " 13  time_D                                480 non-null    float64\n",
      " 14  time_GP                               480 non-null    float64\n",
      " 15  time_GC                               480 non-null    float64\n",
      " 16  time_SG                               480 non-null    float64\n",
      " 17  time_preco_medio_gol                  480 non-null    object \n",
      " 18  time_preco_medio_lat                  480 non-null    object \n",
      " 19  time_preco_medio_zag                  480 non-null    object \n",
      " 20  time_preco_medio_mei                  480 non-null    object \n",
      " 21  time_preco_medio_ata                  480 non-null    object \n",
      " 22  time_preco_medio_tec                  480 non-null    float64\n",
      " 23  time_media_gol                        480 non-null    float64\n",
      " 24  time_media_lat                        480 non-null    float64\n",
      " 25  time_media_zag                        480 non-null    float64\n",
      " 26  time_media_mei                        480 non-null    float64\n",
      " 27  time_media_ata                        480 non-null    float64\n",
      " 28  time_media_tec                        480 non-null    float64\n",
      " 29  time_adversario_id                    480 non-null    float64\n",
      " 30  time_adversario                       480 non-null    object \n",
      " 31  time_adversario_Posicao               480 non-null    float64\n",
      " 32  time_adversario_resultado_anterior    480 non-null    float64\n",
      " 33  time_adversario_mando_campo_anterior  480 non-null    float64\n",
      " 34  time_adversario_gols                  480 non-null    float64\n",
      " 35  time_adversario_PTS                   480 non-null    float64\n",
      " 36  time_adversario_PJ                    480 non-null    float64\n",
      " 37  time_adversario_JG                    480 non-null    float64\n",
      " 38  time_adversario_E                     480 non-null    float64\n",
      " 39  time_adversario_D                     480 non-null    float64\n",
      " 40  time_adversario_GP                    480 non-null    float64\n",
      " 41  time_adversario_GC                    480 non-null    float64\n",
      " 42  time_adversario_SG                    480 non-null    float64\n",
      " 43  time_adversario_preco_medio_gol       480 non-null    object \n",
      " 44  time_adversario_preco_medio_lat       480 non-null    object \n",
      " 45  time_adversario_preco_medio_zag       480 non-null    object \n",
      " 46  time_adversario_preco_medio_mei       480 non-null    object \n",
      " 47  time_adversario_preco_medio_ata       480 non-null    object \n",
      " 48  time_adversario_preco_medio_tec       480 non-null    float64\n",
      " 49  time_adversario_media_gol             480 non-null    float64\n",
      " 50  time_adversario_media_lat             480 non-null    float64\n",
      " 51  time_adversario_media_zag             480 non-null    float64\n",
      " 52  time_adversario_media_mei             480 non-null    float64\n",
      " 53  time_adversario_media_ata             480 non-null    float64\n",
      " 54  time_adversario_media_tec             480 non-null    float64\n",
      "dtypes: float64(38), int64(5), object(12)\n",
      "memory usage: 206.4+ KB\n"
     ]
    }
   ],
   "source": [
    "# Colunas do DataSet\n",
    "jogo.info()"
   ]
  },
  {
   "cell_type": "code",
   "execution_count": null,
   "metadata": {},
   "outputs": [],
   "source": [
    "# Analisando estrutura do DataSet\n",
    "flamengo = jogo.loc[jogo['Time'].str.strip() == 'Flamengo'].sort_values(by=['time_rodada_anterior'])\n",
    "# flamengo"
   ]
  },
  {
   "cell_type": "code",
   "execution_count": null,
   "metadata": {},
   "outputs": [],
   "source": [
    "# Analisando linha com ID 47\n",
    "# flamengo.loc[46]\n",
    "flamengo.loc[274]"
   ]
  },
  {
   "cell_type": "code",
   "execution_count": 596,
   "metadata": {},
   "outputs": [],
   "source": [
    "# Gerando dataSet de treino\n",
    "dataSetTreino = jogo.loc[jogo['time_Rodada'] < 20]\n",
    "# dataSetTreino\n"
   ]
  },
  {
   "cell_type": "code",
   "execution_count": 597,
   "metadata": {},
   "outputs": [],
   "source": [
    "# Gerando DataSet de teste\n",
    "dataSetTeste = jogo.loc[jogo['time_Rodada'] >= 19]\n",
    "# dataSetTeste"
   ]
  },
  {
   "cell_type": "code",
   "execution_count": null,
   "metadata": {},
   "outputs": [],
   "source": [
    "# Analisando estrutura do DataSet de treino\n",
    "flamengo = dataSetTreino.loc[dataSetTreino['Time'].str.strip() == 'Flamengo'].sort_values(by=['time_rodada_anterior'])\n",
    "# flamengo"
   ]
  },
  {
   "cell_type": "markdown",
   "metadata": {},
   "source": [
    "Treino do Modelo com variáveis do DataSet reduzidas"
   ]
  },
  {
   "cell_type": "code",
   "execution_count": 513,
   "metadata": {},
   "outputs": [],
   "source": [
    "# Setando variáveis que impactam na variável dependente (REDUZIDA)\n",
    "x = dataSetTreino[['time_posicao', 'time_PTS', 'time_JG', 'time_E', 'time_D','time_GP', 'time_GC', 'time_SG', 'time_media_gol', 'time_adversario_Posicao', 'time_adversario_PTS', 'time_adversario_JG', 'time_adversario_E', 'time_adversario_D', 'time_adversario_GP', 'time_adversario_GC', 'time_adversario_SG', 'time_adversario_media_gol']]\n",
    "y = dataSetTreino['time_resultado_anterior']\n",
    "\n",
    "# Treinando o modelo\n",
    "x_treino, x_teste, y_treino, y_teste = train_test_split(x,y,test_size=0.3, random_state=0)"
   ]
  },
  {
   "cell_type": "code",
   "execution_count": null,
   "metadata": {},
   "outputs": [],
   "source": [
    "# Realizando predições \n",
    "logi_reg = LogisticRegression()\n",
    "logi_reg.fit(x_treino, y_treino)\n",
    "y_pred = logi_reg.predict(x_teste)"
   ]
  },
  {
   "cell_type": "code",
   "execution_count": null,
   "metadata": {},
   "outputs": [],
   "source": [
    "# Matriz de confusão do modelo\n",
    "matriz_confusao = pd.crosstab(y_teste, y_pred, rownames=['Actual'], colnames=['Predicted'])\n",
    "sn.heatmap(matriz_confusao, annot=True)"
   ]
  },
  {
   "cell_type": "code",
   "execution_count": null,
   "metadata": {},
   "outputs": [],
   "source": [
    "print('Accuracy: ',metrics.accuracy_score(y_teste, y_pred))\n",
    "plt.show()"
   ]
  },
  {
   "cell_type": "code",
   "execution_count": null,
   "metadata": {},
   "outputs": [],
   "source": [
    "# Função que verifica possível resultado em cada rodada (20 à 24) dos jogos.\n",
    "def verificarResultado(rodada, rodadaAtual):\n",
    "    x = 0\n",
    "    for i,j in rodada.iterrows():\n",
    "        # Mandante\n",
    "        atualMandante = jogo.loc[jogo['Time'].str.strip() == j['Time']]\n",
    "        atualMandante = atualMandante.loc[atualMandante['time_Rodada'] == rodadaAtual]\n",
    "\n",
    "        # # Visitante\n",
    "        atualVisitante = jogo.loc[jogo['Time'].str.strip() == j['time_adversario']]\n",
    "        atualVisitante = atualVisitante.loc[atualVisitante['time_Rodada'] == rodadaAtual]\n",
    "        \n",
    "        # Rodada Futura\n",
    "        rodadaFutura = jogo.loc[jogo['Time'].str.strip() == j['Time']]\n",
    "        rodadaFutura = rodadaFutura.loc[rodadaFutura['time_rodada_anterior'] == rodadaAtual]\n",
    "\n",
    "        teste = {\n",
    "            'time_posicao': atualMandante['time_posicao'].values, \n",
    "            'time_PTS': atualMandante['time_PTS'].values, \n",
    "            'time_JG': atualMandante['time_JG'].values, \n",
    "            'time_E': atualMandante['time_E'].values, \n",
    "            'time_D': atualMandante['time_D'].values,\n",
    "            'time_GP': atualMandante['time_GP'].values, \n",
    "            'time_GC': atualMandante['time_GC'].values, \n",
    "            'time_SG': atualMandante['time_SG'].values, \n",
    "            'time_media_gol': atualMandante['time_media_gol'].values, \n",
    "            'time_adversario_Posicao': atualVisitante['time_posicao'].values, \n",
    "            'time_adversario_PTS': atualVisitante['time_PTS'].values, \n",
    "            'time_adversario_JG': atualVisitante['time_JG'].values, \n",
    "            'time_adversario_E': atualVisitante['time_E'].values, \n",
    "            'time_adversario_D': atualVisitante['time_D'].values, \n",
    "            'time_adversario_GP': atualVisitante['time_GP'].values, \n",
    "            'time_adversario_GC': atualVisitante['time_GC'].values, \n",
    "            'time_adversario_SG': atualVisitante['time_SG'].values, \n",
    "            'time_adversario_media_gol': atualVisitante['time_media_gol'].values\n",
    "        }\n",
    "\n",
    "        print(\"Jogo entre \" + rodadaFutura['Time'].values + \" e \"+ rodadaFutura['time_adversario'].values)\n",
    "        \n",
    "        dft = pd.DataFrame(data=teste, index=[0])\n",
    "        resultado = logi_reg.predict(dft)\n",
    "        if resultado == 1:\n",
    "            print(rodadaFutura['Time'].values + \" ganha!\")\n",
    "        elif resultado == 2:\n",
    "            print(\"Empate!\")\n",
    "        elif resultado == 3:\n",
    "            print(rodadaFutura['time_adversario'].values + \" ganha!\")\n",
    "        print()\n",
    "\n",
    "# Filtrando a rodada para verificação dos resultados\n",
    "# print(\"Rodada 23:\")\n",
    "# rodada = dataSetTeste.loc[dataSetTeste['time_rodada_anterior'] == 23]\n",
    "# rodada = rodada.loc[rodada['time_mando_campo'] == 1.0]\n",
    "# verificarResultado(rodada, 23)\n",
    "# rodada.loc[179]"
   ]
  },
  {
   "cell_type": "markdown",
   "metadata": {},
   "source": [
    "Treino do Modelo com variáveis completas do DataSet"
   ]
  },
  {
   "cell_type": "code",
   "execution_count": 598,
   "metadata": {},
   "outputs": [],
   "source": [
    "# Setando variáveis que impactam na variável dependente - (COMPLETA)\n",
    "x1 = dataSetTreino[[\n",
    "        'time_posicao', \n",
    "        'time_PTS', \n",
    "        'time_JG', \n",
    "        'time_E', \n",
    "        'time_D',\n",
    "        'time_GP', \n",
    "        'time_GC', \n",
    "        'time_SG', \n",
    "        'time_media_gol',   \n",
    "        'time_media_lat',\n",
    "        'time_media_zag',      \n",
    "        'time_media_mei',      \n",
    "        'time_media_ata',      \n",
    "        'time_media_tec',      \n",
    "        'time_adversario_Posicao', \n",
    "        'time_adversario_PTS', \n",
    "        'time_adversario_JG', \n",
    "        'time_adversario_E', \n",
    "        'time_adversario_D', \n",
    "        'time_adversario_GP', \n",
    "        'time_adversario_GC', \n",
    "        'time_adversario_SG', \n",
    "        'time_adversario_media_gol',      \n",
    "        'time_adversario_media_lat',      \n",
    "        'time_adversario_media_zag',      \n",
    "        'time_adversario_media_mei',      \n",
    "        'time_adversario_media_ata',      \n",
    "        'time_adversario_media_tec',      \n",
    "    ]]\n",
    "y1 = dataSetTreino['time_resultado_anterior']\n",
    "\n",
    "# Treinando o modelo\n",
    "x_treino1, x_teste1, y_treino1, y_teste1 = train_test_split(x1,y1,test_size=0.2, random_state=0)"
   ]
  },
  {
   "cell_type": "code",
   "execution_count": null,
   "metadata": {},
   "outputs": [],
   "source": [
    "# Realizando predições \n",
    "logi_reg = LogisticRegression()\n",
    "logi_reg.fit(x_treino1, y_treino1)\n",
    "y_pred1 = logi_reg.predict(x_teste1)"
   ]
  },
  {
   "cell_type": "code",
   "execution_count": 600,
   "metadata": {},
   "outputs": [
    {
     "data": {
      "text/plain": [
       "<AxesSubplot:xlabel='Predicted', ylabel='Actual'>"
      ]
     },
     "execution_count": 600,
     "metadata": {},
     "output_type": "execute_result"
    },
    {
     "data": {
      "image/png": "[encoded data removed]",
      "text/plain": [
       "<Figure size 432x288 with 2 Axes>"
      ]
     },
     "metadata": {
      "needs_background": "light"
     },
     "output_type": "display_data"
    }
   ],
   "source": [
    "# Matriz de confusão do modelo\n",
    "matriz_confusao = pd.crosstab(y_teste1, y_pred1, rownames=['Actual'], colnames=['Predicted'])\n",
    "sn.heatmap(matriz_confusao, annot=True)"
   ]
  },
  {
   "cell_type": "code",
   "execution_count": 601,
   "metadata": {},
   "outputs": [
    {
     "name": "stdout",
     "output_type": "stream",
     "text": [
      "Accuracy:  0.6052631578947368\n"
     ]
    }
   ],
   "source": [
    "print('Accuracy: ',metrics.accuracy_score(y_teste1, y_pred1))\n",
    "plt.show()"
   ]
  },
  {
   "cell_type": "code",
   "execution_count": 602,
   "metadata": {},
   "outputs": [],
   "source": [
    "# Função que verifica possível resultado em cada rodada (20 à 24) dos jogos.\n",
    "def verificarResultado(rodada, rodadaAtual):\n",
    "    x = 0\n",
    "    # print(\"Rodada \" + str(rodadaAtual))\n",
    "\n",
    "    with open('resultados_brasileirao.csv', 'a+', newline='') as arquivo:\n",
    "        escrita = csv.writer(arquivo)\n",
    "        escrita.writerow([\"Rodada \" + str(rodadaAtual)])\n",
    "\n",
    "    for i,j in rodada.iterrows():        \n",
    "        # Mandante\n",
    "        atualMandante = jogo.loc[jogo['Time'].str.strip() == j['Time']]\n",
    "        atualMandante = atualMandante.loc[atualMandante['time_Rodada'] == rodadaAtual]\n",
    "\n",
    "        # # Visitante\n",
    "        atualVisitante = jogo.loc[jogo['Time'].str.strip() == j['time_adversario']]\n",
    "        atualVisitante = atualVisitante.loc[atualVisitante['time_Rodada'] == rodadaAtual]\n",
    "        \n",
    "        # Rodada Futura\n",
    "        rodadaFutura = jogo.loc[jogo['Time'].str.strip() == j['Time']]\n",
    "        rodadaFutura = rodadaFutura.loc[rodadaFutura['time_rodada_anterior'] == rodadaAtual]\n",
    "\n",
    "        teste = {\n",
    "            'time_posicao': atualMandante['time_posicao'].values, \n",
    "            'time_PTS': atualMandante['time_PTS'].values, \n",
    "            'time_JG': atualMandante['time_JG'].values, \n",
    "            'time_E': atualMandante['time_E'].values, \n",
    "            'time_D': atualMandante['time_D'].values,\n",
    "            'time_GP': atualMandante['time_GP'].values, \n",
    "            'time_GC': atualMandante['time_GC'].values, \n",
    "            'time_SG': atualMandante['time_SG'].values, \n",
    "            'time_media_gol': atualMandante['time_media_gol'].values, \n",
    "            'time_media_lat': atualMandante['time_media_lat'].values, \n",
    "            'time_media_zag': atualMandante['time_media_zag'].values, \n",
    "            'time_media_mei': atualMandante['time_media_mei'].values, \n",
    "            'time_media_ata': atualMandante['time_media_ata'].values, \n",
    "            'time_media_tec': atualMandante['time_media_tec'].values, \n",
    "            'time_adversario_Posicao': atualVisitante['time_posicao'].values, \n",
    "            'time_adversario_PTS': atualVisitante['time_PTS'].values, \n",
    "            'time_adversario_JG': atualVisitante['time_JG'].values, \n",
    "            'time_adversario_E': atualVisitante['time_E'].values, \n",
    "            'time_adversario_D': atualVisitante['time_D'].values, \n",
    "            'time_adversario_GP': atualVisitante['time_GP'].values, \n",
    "            'time_adversario_GC': atualVisitante['time_GC'].values, \n",
    "            'time_adversario_SG': atualVisitante['time_SG'].values, \n",
    "            'time_adversario_media_gol': atualVisitante['time_media_gol'].values,\n",
    "            'time_adversario_media_lat': atualVisitante['time_media_lat'].values,\n",
    "            'time_adversario_media_zag': atualVisitante['time_media_zag'].values,\n",
    "            'time_adversario_media_mei': atualVisitante['time_media_mei'].values,\n",
    "            'time_adversario_media_ata': atualVisitante['time_media_ata'].values,\n",
    "            'time_adversario_media_tec': atualVisitante['time_media_tec'].values \n",
    "        }\n",
    "\n",
    "        # print(\"Jogo entre \" + rodadaFutura['Time'].values + \" e \"+ rodadaFutura['time_adversario'].values)\n",
    "        \n",
    "        dft = pd.DataFrame(data=teste, index=[0])\n",
    "        resultado = logi_reg.predict(dft)\n",
    "        # if resultado == 1:\n",
    "        #     print(rodadaFutura['Time'].values + \" ganha!\")\n",
    "        # elif resultado == 2:\n",
    "        #     print(\"Empate!\")\n",
    "        # elif resultado == 3:\n",
    "        #     print(rodadaFutura['time_adversario'].values + \" ganha!\")\n",
    "\n",
    "        with open('resultados_brasileirao.csv', 'a+', newline='') as arquivo:\n",
    "            escrita = csv.writer(arquivo)\n",
    "            escrita.writerow([\"Jogo entre \" + rodadaFutura['Time'].values + \" e \"+ rodadaFutura['time_adversario'].values])\n",
    "            \n",
    "            if resultado == 1:\n",
    "                escrita.writerow([rodadaFutura['Time'].values + \" ganha!\"])\n",
    "            elif resultado == 2:\n",
    "                escrita.writerow([\"Empate!\"])\n",
    "            elif resultado == 3:\n",
    "                escrita.writerow([rodadaFutura['time_adversario'].values + \" ganha!\"])\n",
    "\n",
    "            escrita.writerow([])\n",
    "        # print()\n",
    "\n",
    "# Filtrando a rodada para verificação dos resultados\n",
    "# print(\"Rodada 23:\")\n",
    "# rodada = dataSetTeste.loc[dataSetTeste['time_rodada_anterior'] == 23]\n",
    "# rodada = rodada.loc[rodada['time_mando_campo'] == 1.0]\n",
    "# verificarResultado(rodada, 23)\n",
    "# rodada"
   ]
  },
  {
   "cell_type": "code",
   "execution_count": 603,
   "metadata": {},
   "outputs": [],
   "source": [
    "rodadasRepetidas = [dataSetTeste['time_Rodada'].values]\n",
    "rodadasFiltradas = []\n",
    "\n",
    "# Criando uma lista com os números das rodadas para previsão\n",
    "for i in rodadasRepetidas[0]:\n",
    "    if not(i in rodadasFiltradas):\n",
    "        rodadasFiltradas.append(i)\n",
    "\n",
    "rodadasFiltradas.pop()\n",
    "# Resultados de todas as rodadas que utilizamos para prever\n",
    "for i in rodadasFiltradas:\n",
    "    rodada = dataSetTeste.loc[dataSetTeste['time_Rodada'] == i]\n",
    "    rodada = rodada.loc[rodada['time_mando_campo'] == 1.0]\n",
    "    # print(\"Rodada \" + str(i))\n",
    "    verificarResultado(rodada, i)\n",
    "    # print()\n",
    "\n"
   ]
  }
 ],
 "metadata": {
  "kernelspec": {
   "display_name": "Python 3.10.4 64-bit",
   "language": "python",
   "name": "python3"
  },
  "language_info": {
   "codemirror_mode": {
    "name": "ipython",
    "version": 3
   },
   "file_extension": ".py",
   "mimetype": "text/x-python",
   "name": "python",
   "nbconvert_exporter": "python",
   "pygments_lexer": "ipython3",
   "version": "3.10.4"
  },
  "orig_nbformat": 4,
  "vscode": {
   "interpreter": {
    "hash": "35fddcc3cecf8ec32b60c2df0f0e9dc01da323d81d8d91697dac61b2c06b5614"
   }
  }
 },
 "nbformat": 4,
 "nbformat_minor": 2
}
