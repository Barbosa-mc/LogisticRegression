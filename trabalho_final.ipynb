{
 "cells": [
  {
   "cell_type": "code",
   "execution_count": 2,
   "metadata": {},
   "outputs": [],
   "source": [
    "# Importando bibliotecas e base de dados\n",
    "import pandas as pd\n",
    "import numpy as np\n",
    "from sklearn.model_selection import train_test_split\n",
    "from sklearn.linear_model import LogisticRegression\n",
    "from sklearn import metrics\n",
    "import seaborn as sn\n",
    "import matplotlib.pyplot as plt\n",
    "import scipy.stats as stats\n",
    "import csv\n",
    "\n",
    "jogo = pd.read_csv(\"Projeto_SAS_Cartola_v3.csv\", encoding='latin-1', sep=';')\n",
    "# jogo"
   ]
  },
  {
   "cell_type": "code",
   "execution_count": 3,
   "metadata": {},
   "outputs": [],
   "source": [
    "# Trocando vírgula por ponto para análise do algoritmo\n",
    "jogo['time_media_gol'] = jogo['time_media_gol'].str.replace(',','.').astype(np.float64)\n",
    "jogo['time_media_lat'] = jogo['time_media_lat'].str.replace(',','.').astype(np.float64)\n",
    "jogo['time_media_zag'] = jogo['time_media_zag'].str.replace(',','.').astype(np.float64)\n",
    "jogo['time_media_mei'] = jogo['time_media_mei'].str.replace(',','.').astype(np.float64)\n",
    "jogo['time_media_ata'] = jogo['time_media_ata'].str.replace(',','.').astype(np.float64)\n",
    "jogo['time_adversario_media_gol'] = jogo['time_adversario_media_gol'].str.replace(',','.').astype(np.float64)\n",
    "jogo['time_adversario_media_lat'] = jogo['time_adversario_media_lat'].str.replace(',','.').astype(np.float64)\n",
    "jogo['time_adversario_media_zag'] = jogo['time_adversario_media_zag'].str.replace(',','.').astype(np.float64)\n",
    "jogo['time_adversario_media_mei'] = jogo['time_adversario_media_mei'].str.replace(',','.').astype(np.float64)\n",
    "jogo['time_adversario_media_ata'] = jogo['time_adversario_media_ata'].str.replace(',','.').astype(np.float64)\n",
    "# jogo"
   ]
  },
  {
   "cell_type": "code",
   "execution_count": 4,
   "metadata": {},
   "outputs": [],
   "source": [
    "# Trocando valores nulos por 0.0 e excluindo linhas com valores nulos (não existirá, somente para certeza)\n",
    "jogo = jogo.fillna(0)\n",
    "jogo = jogo[jogo.notna()]\n",
    "# jogo"
   ]
  },
  {
   "cell_type": "code",
   "execution_count": null,
   "metadata": {},
   "outputs": [],
   "source": [
    "# Coeficiente de Pearson\n",
    "lista = []\n",
    "for i in jogo:\n",
    "    if jogo[i].dtypes != 'object':\n",
    "        lista.append(i)\n",
    "\n",
    "for i in lista:\n",
    "    print(i)\n",
    "    x = stats.pearsonr(jogo['time_resultado_anterior'], jogo[i])\n",
    "    print(x)\n"
   ]
  },
  {
   "cell_type": "code",
   "execution_count": null,
   "metadata": {},
   "outputs": [],
   "source": [
    "# Colunas do DataSet\n",
    "jogo.info()"
   ]
  },
  {
   "cell_type": "code",
   "execution_count": null,
   "metadata": {},
   "outputs": [],
   "source": [
    "jogo.loc[74]"
   ]
  },
  {
   "cell_type": "code",
   "execution_count": 50,
   "metadata": {},
   "outputs": [],
   "source": [
    "# Analisando estrutura do DataSet\n",
    "flamengo = jogo.loc[jogo['Time'].str.strip() == 'Flamengo'].sort_values(by=['time_rodada_anterior'])\n",
    "# flamengo"
   ]
  },
  {
   "cell_type": "code",
   "execution_count": null,
   "metadata": {},
   "outputs": [],
   "source": [
    "# Analisando linha com ID 47\n",
    "# flamengo.loc[46]\n",
    "flamengo.loc[274]"
   ]
  },
  {
   "cell_type": "code",
   "execution_count": 5,
   "metadata": {},
   "outputs": [],
   "source": [
    "# Gerando dataSet de treino\n",
    "dataSetTreino = jogo.loc[jogo['time_Rodada'] < 20]\n",
    "# dataSetTreino\n"
   ]
  },
  {
   "cell_type": "code",
   "execution_count": 6,
   "metadata": {},
   "outputs": [],
   "source": [
    "# Gerando DataSet de teste\n",
    "dataSetTeste = jogo.loc[jogo['time_Rodada'] >= 19]\n",
    "# dataSetTeste"
   ]
  },
  {
   "cell_type": "code",
   "execution_count": null,
   "metadata": {},
   "outputs": [],
   "source": [
    "# Analisando estrutura do DataSet de treino\n",
    "flamengo = dataSetTreino.loc[dataSetTreino['Time'].str.strip() == 'Flamengo'].sort_values(by=['time_rodada_anterior'])\n",
    "# flamengo"
   ]
  },
  {
   "cell_type": "markdown",
   "metadata": {},
   "source": [
    "Treino do Modelo com variáveis do DataSet reduzidas"
   ]
  },
  {
   "cell_type": "code",
   "execution_count": 15,
   "metadata": {},
   "outputs": [],
   "source": [
    "# Setando variáveis que impactam na variável dependente (REDUZIDA)\n",
    "x = jogo[[\n",
    "        'time_posicao', \n",
    "        'time_mando_campo',\n",
    "        'time_gols',\n",
    "        'time_PTS', \n",
    "        'time_JG', \n",
    "        'time_E', \n",
    "        'time_D',\n",
    "        'time_GP', \n",
    "        'time_GC', \n",
    "        'time_SG',  \n",
    "        'time_adversario_Posicao', \n",
    "        'time_adversario_gols',\n",
    "        'time_adversario_PTS', \n",
    "        'time_adversario_JG', \n",
    "        'time_adversario_E', \n",
    "        'time_adversario_D', \n",
    "        'time_adversario_GP', \n",
    "        'time_adversario_GC', \n",
    "        'time_adversario_SG'\n",
    "    ]]\n",
    "y = jogo['time_resultado_anterior']\n",
    "\n",
    "# Treinando o modelo\n",
    "x_treino, x_teste, y_treino, y_teste = train_test_split(x,y,test_size=0.15, random_state=0)"
   ]
  },
  {
   "cell_type": "code",
   "execution_count": 16,
   "metadata": {},
   "outputs": [
    {
     "name": "stderr",
     "output_type": "stream",
     "text": [
      "c:\\Users\\mauri\\AppData\\Local\\Programs\\Python\\Python310\\lib\\site-packages\\sklearn\\linear_model\\_logistic.py:444: ConvergenceWarning: lbfgs failed to converge (status=1):\n",
      "STOP: TOTAL NO. of ITERATIONS REACHED LIMIT.\n",
      "\n",
      "Increase the number of iterations (max_iter) or scale the data as shown in:\n",
      "    https://scikit-learn.org/stable/modules/preprocessing.html\n",
      "Please also refer to the documentation for alternative solver options:\n",
      "    https://scikit-learn.org/stable/modules/linear_model.html#logistic-regression\n",
      "  n_iter_i = _check_optimize_result(\n"
     ]
    }
   ],
   "source": [
    "# Realizando predições \n",
    "logi_reg = LogisticRegression(solver='lbfgs', max_iter=300)\n",
    "logi_reg.fit(x_treino, y_treino)\n",
    "y_pred = logi_reg.predict(x_teste)"
   ]
  },
  {
   "cell_type": "code",
   "execution_count": 17,
   "metadata": {},
   "outputs": [
    {
     "data": {
      "text/plain": [
       "<AxesSubplot:xlabel='Predicted', ylabel='Actual'>"
      ]
     },
     "execution_count": 17,
     "metadata": {},
     "output_type": "execute_result"
    },
    {
     "data": {
      "image/png": "[encoded data removed]",
      "text/plain": [
       "<Figure size 432x288 with 2 Axes>"
      ]
     },
     "metadata": {
      "needs_background": "light"
     },
     "output_type": "display_data"
    }
   ],
   "source": [
    "# Matriz de confusão do modelo\n",
    "matriz_confusao = pd.crosstab(y_teste, y_pred, rownames=['Actual'], colnames=['Predicted'])\n",
    "sn.heatmap(matriz_confusao, annot=True)"
   ]
  },
  {
   "cell_type": "code",
   "execution_count": 18,
   "metadata": {},
   "outputs": [
    {
     "name": "stdout",
     "output_type": "stream",
     "text": [
      "Accuracy:  0.9861111111111112\n"
     ]
    }
   ],
   "source": [
    "print('Accuracy: ',metrics.accuracy_score(y_teste, y_pred))\n",
    "plt.show()"
   ]
  },
  {
   "cell_type": "code",
   "execution_count": 19,
   "metadata": {},
   "outputs": [
    {
     "name": "stdout",
     "output_type": "stream",
     "text": [
      "['Jogo entre Fluminense e Coritiba']\n",
      "['Fluminense ganha!']\n",
      "\n",
      "['Jogo entre Athlético-PR e América-MG']\n",
      "['América-MG ganha!']\n",
      "\n",
      "['Jogo entre Palmeiras e Flamengo']\n",
      "['Flamengo ganha!']\n",
      "\n",
      "['Jogo entre Santos e São Paulo']\n",
      "['São Paulo ganha!']\n",
      "\n",
      "['Jogo entre Atlético-MG e Goiás']\n",
      "Empate!\n",
      "\n",
      "['Jogo entre Avaí e Internacional']\n",
      "['Internacional ganha!']\n",
      "\n",
      "['Jogo entre Bragantino e Ceará']\n",
      "Empate!\n",
      "\n",
      "['Jogo entre Juventude e Botafogo']\n",
      "Empate!\n",
      "\n",
      "['Jogo entre Fortaleza e Corinthians']\n",
      "['Fortaleza ganha!']\n",
      "\n",
      "['Jogo entre Atlético-GO e Cuiabá']\n",
      "['Cuiabá ganha!']\n",
      "\n"
     ]
    }
   ],
   "source": [
    "# Função que verifica possível resultado em cada rodada (20 à 24) dos jogos.\n",
    "def verificarResultado(rodada, rodadaAtual):\n",
    "    x = 0\n",
    "    for i,j in rodada.iterrows():\n",
    "        # Mandante\n",
    "        atualMandante = jogo.loc[jogo['Time'].str.strip() == j['Time']]\n",
    "        atualMandante = atualMandante.loc[atualMandante['time_Rodada'] == rodadaAtual]\n",
    "\n",
    "        # # Visitante\n",
    "        atualVisitante = jogo.loc[jogo['Time'].str.strip() == j['time_adversario']]\n",
    "        atualVisitante = atualVisitante.loc[atualVisitante['time_Rodada'] == rodadaAtual]\n",
    "        \n",
    "        # Rodada Futura\n",
    "        rodadaFutura = jogo.loc[jogo['Time'].str.strip() == j['Time']]\n",
    "        rodadaFutura = rodadaFutura.loc[rodadaFutura['time_rodada_anterior'] == rodadaAtual]\n",
    "\n",
    "        teste = {\n",
    "            'time_posicao': atualMandante['time_posicao'].values, \n",
    "            'time_mando_campo': atualMandante['time_mando_campo'].values, \n",
    "            'time_gols': atualMandante['time_gols'].values, \n",
    "            'time_PTS': atualMandante['time_PTS'].values, \n",
    "            'time_JG': atualMandante['time_JG'].values, \n",
    "            'time_E': atualMandante['time_E'].values, \n",
    "            'time_D': atualMandante['time_D'].values,\n",
    "            'time_GP': atualMandante['time_GP'].values, \n",
    "            'time_GC': atualMandante['time_GC'].values, \n",
    "            'time_SG': atualMandante['time_SG'].values, \n",
    "            'time_adversario_Posicao': atualVisitante['time_posicao'].values, \n",
    "            'time_adversario_gols': atualVisitante['time_gols'].values, \n",
    "            'time_adversario_PTS': atualVisitante['time_PTS'].values, \n",
    "            'time_adversario_JG': atualVisitante['time_JG'].values, \n",
    "            'time_adversario_E': atualVisitante['time_E'].values, \n",
    "            'time_adversario_D': atualVisitante['time_D'].values, \n",
    "            'time_adversario_GP': atualVisitante['time_GP'].values, \n",
    "            'time_adversario_GC': atualVisitante['time_GC'].values, \n",
    "            'time_adversario_SG': atualVisitante['time_SG'].values\n",
    "        }\n",
    "\n",
    "        print(\"Jogo entre \" + rodadaFutura['Time'].values + \" e \"+ rodadaFutura['time_adversario'].values)\n",
    "        \n",
    "        dft = pd.DataFrame(data=teste, index=[0])\n",
    "        resultado = logi_reg.predict(dft)\n",
    "        if resultado == 1:\n",
    "            print(rodadaFutura['Time'].values + \" ganha!\")\n",
    "        elif resultado == 2:\n",
    "            print(\"Empate!\")\n",
    "        elif resultado == 3:\n",
    "            print(rodadaFutura['time_adversario'].values + \" ganha!\")\n",
    "        print()\n",
    "\n",
    "# Filtrando a rodada para verificação dos resultados\n",
    "# print(\"Rodada 23:\")\n",
    "rodada = jogo.loc[jogo['time_rodada_anterior'] == 23]\n",
    "rodada = rodada.loc[rodada['time_mando_campo'] == 1.0]\n",
    "verificarResultado(rodada, 23)\n",
    "# rodada.loc[179]"
   ]
  },
  {
   "cell_type": "markdown",
   "metadata": {},
   "source": [
    "Treino do Modelo com variáveis completas do DataSet"
   ]
  },
  {
   "cell_type": "code",
   "execution_count": 82,
   "metadata": {},
   "outputs": [],
   "source": [
    "# Setando variáveis que impactam na variável dependente - (COMPLETA)\n",
    "x1 = dataSetTreino[[\n",
    "        'time_posicao', \n",
    "        'time_PTS', \n",
    "        'time_JG', \n",
    "        'time_E', \n",
    "        'time_D',\n",
    "        'time_GP', \n",
    "        'time_GC', \n",
    "        'time_SG', \n",
    "        'time_media_gol',   \n",
    "        'time_media_lat',\n",
    "        'time_media_zag',      \n",
    "        'time_media_mei',      \n",
    "        'time_media_ata',      \n",
    "        'time_media_tec',      \n",
    "        'time_adversario_Posicao', \n",
    "        'time_adversario_PTS', \n",
    "        'time_adversario_JG', \n",
    "        'time_adversario_E', \n",
    "        'time_adversario_D', \n",
    "        'time_adversario_GP', \n",
    "        'time_adversario_GC', \n",
    "        'time_adversario_SG', \n",
    "        'time_adversario_media_gol',      \n",
    "        'time_adversario_media_lat',      \n",
    "        'time_adversario_media_zag',      \n",
    "        'time_adversario_media_mei',      \n",
    "        'time_adversario_media_ata',      \n",
    "        'time_adversario_media_tec',      \n",
    "    ]]\n",
    "y1 = dataSetTreino['time_resultado_anterior']\n",
    "\n",
    "# Treinando o modelo\n",
    "x_treino1, x_teste1, y_treino1, y_teste1 = train_test_split(x1,y1,test_size=0.3, random_state=0)"
   ]
  },
  {
   "cell_type": "code",
   "execution_count": 83,
   "metadata": {},
   "outputs": [
    {
     "name": "stderr",
     "output_type": "stream",
     "text": [
      "c:\\Users\\mauri\\AppData\\Local\\Programs\\Python\\Python310\\lib\\site-packages\\sklearn\\linear_model\\_logistic.py:444: ConvergenceWarning: lbfgs failed to converge (status=1):\n",
      "STOP: TOTAL NO. of ITERATIONS REACHED LIMIT.\n",
      "\n",
      "Increase the number of iterations (max_iter) or scale the data as shown in:\n",
      "    https://scikit-learn.org/stable/modules/preprocessing.html\n",
      "Please also refer to the documentation for alternative solver options:\n",
      "    https://scikit-learn.org/stable/modules/linear_model.html#logistic-regression\n",
      "  n_iter_i = _check_optimize_result(\n"
     ]
    }
   ],
   "source": [
    "# Realizando predições \n",
    "logi_reg = LogisticRegression()\n",
    "logi_reg.fit(x_treino1, y_treino1)\n",
    "y_pred1 = logi_reg.predict(x_teste1)"
   ]
  },
  {
   "cell_type": "code",
   "execution_count": 84,
   "metadata": {},
   "outputs": [
    {
     "data": {
      "text/plain": [
       "<AxesSubplot:xlabel='Predicted', ylabel='Actual'>"
      ]
     },
     "execution_count": 84,
     "metadata": {},
     "output_type": "execute_result"
    },
    {
     "data": {
      "image/png": "[encoded data removed]",
      "text/plain": [
       "<Figure size 432x288 with 2 Axes>"
      ]
     },
     "metadata": {
      "needs_background": "light"
     },
     "output_type": "display_data"
    }
   ],
   "source": [
    "# Matriz de confusão do modelo\n",
    "matriz_confusao = pd.crosstab(y_teste1, y_pred1, rownames=['Actual'], colnames=['Predicted'])\n",
    "sn.heatmap(matriz_confusao, annot=True)"
   ]
  },
  {
   "cell_type": "code",
   "execution_count": 85,
   "metadata": {},
   "outputs": [
    {
     "name": "stdout",
     "output_type": "stream",
     "text": [
      "Accuracy:  0.6052631578947368\n"
     ]
    }
   ],
   "source": [
    "print('Accuracy: ',metrics.accuracy_score(y_teste1, y_pred1))\n",
    "plt.show()"
   ]
  },
  {
   "cell_type": "code",
   "execution_count": 77,
   "metadata": {},
   "outputs": [],
   "source": [
    "# Função que verifica possível resultado em cada rodada (20 à 24) dos jogos.\n",
    "def verificarResultado(rodada, rodadaAtual):\n",
    "    x = 0\n",
    "    # print(\"Rodada \" + str(rodadaAtual))\n",
    "\n",
    "    with open('resultados_brasileirao.csv', 'a+', newline='') as arquivo:\n",
    "        escrita = csv.writer(arquivo)\n",
    "        escrita.writerow([\"Rodada \" + str(rodadaAtual)])\n",
    "\n",
    "    for i,j in rodada.iterrows():        \n",
    "        # Mandante\n",
    "        atualMandante = jogo.loc[jogo['Time'].str.strip() == j['Time']]\n",
    "        atualMandante = atualMandante.loc[atualMandante['time_Rodada'] == rodadaAtual]\n",
    "\n",
    "        # # Visitante\n",
    "        atualVisitante = jogo.loc[jogo['Time'].str.strip() == j['time_adversario']]\n",
    "        atualVisitante = atualVisitante.loc[atualVisitante['time_Rodada'] == rodadaAtual]\n",
    "        \n",
    "        # Rodada Futura\n",
    "        rodadaFutura = jogo.loc[jogo['Time'].str.strip() == j['Time']]\n",
    "        rodadaFutura = rodadaFutura.loc[rodadaFutura['time_rodada_anterior'] == rodadaAtual]\n",
    "\n",
    "        teste = {\n",
    "            'time_posicao': atualMandante['time_posicao'].values, \n",
    "            'time_PTS': atualMandante['time_PTS'].values, \n",
    "            'time_JG': atualMandante['time_JG'].values, \n",
    "            'time_E': atualMandante['time_E'].values, \n",
    "            'time_D': atualMandante['time_D'].values,\n",
    "            'time_GP': atualMandante['time_GP'].values, \n",
    "            'time_GC': atualMandante['time_GC'].values, \n",
    "            'time_SG': atualMandante['time_SG'].values, \n",
    "            'time_media_gol': atualMandante['time_media_gol'].values, \n",
    "            'time_media_lat': atualMandante['time_media_lat'].values, \n",
    "            'time_media_zag': atualMandante['time_media_zag'].values, \n",
    "            'time_media_mei': atualMandante['time_media_mei'].values, \n",
    "            'time_media_ata': atualMandante['time_media_ata'].values, \n",
    "            'time_media_tec': atualMandante['time_media_tec'].values, \n",
    "            'time_adversario_Posicao': atualVisitante['time_posicao'].values, \n",
    "            'time_adversario_PTS': atualVisitante['time_PTS'].values, \n",
    "            'time_adversario_JG': atualVisitante['time_JG'].values, \n",
    "            'time_adversario_E': atualVisitante['time_E'].values, \n",
    "            'time_adversario_D': atualVisitante['time_D'].values, \n",
    "            'time_adversario_GP': atualVisitante['time_GP'].values, \n",
    "            'time_adversario_GC': atualVisitante['time_GC'].values, \n",
    "            'time_adversario_SG': atualVisitante['time_SG'].values, \n",
    "            'time_adversario_media_gol': atualVisitante['time_media_gol'].values,\n",
    "            'time_adversario_media_lat': atualVisitante['time_media_lat'].values,\n",
    "            'time_adversario_media_zag': atualVisitante['time_media_zag'].values,\n",
    "            'time_adversario_media_mei': atualVisitante['time_media_mei'].values,\n",
    "            'time_adversario_media_ata': atualVisitante['time_media_ata'].values,\n",
    "            'time_adversario_media_tec': atualVisitante['time_media_tec'].values \n",
    "        }\n",
    "\n",
    "        print(\"Jogo entre \" + rodadaFutura['Time'].values + \" e \"+ rodadaFutura['time_adversario'].values)\n",
    "        \n",
    "        dft = pd.DataFrame(data=teste, index=[0])\n",
    "        resultado = logi_reg.predict(dft)\n",
    "        if resultado == 1:\n",
    "            print(rodadaFutura['Time'].values + \" ganha!\")\n",
    "        elif resultado == 2:\n",
    "            print(\"Empate!\")\n",
    "        elif resultado == 3:\n",
    "            print(rodadaFutura['time_adversario'].values + \" ganha!\")\n",
    "\n",
    "        # with open('resultados_brasileirao.csv', 'a+', newline='') as arquivo:\n",
    "        #     escrita = csv.writer(arquivo)\n",
    "        #     escrita.writerow([\"Jogo entre \" + rodadaFutura['Time'].values + \" e \"+ rodadaFutura['time_adversario'].values])\n",
    "            \n",
    "        #     if resultado == 1:\n",
    "        #         escrita.writerow([rodadaFutura['Time'].values + \" ganha!\"])\n",
    "        #     elif resultado == 2:\n",
    "        #         escrita.writerow([\"Empate!\"])\n",
    "        #     elif resultado == 3:\n",
    "        #         escrita.writerow([rodadaFutura['time_adversario'].values + \" ganha!\"])\n",
    "\n",
    "        #     escrita.writerow([])\n",
    "        print()\n",
    "\n",
    "# Filtrando a rodada para verificação dos resultados\n",
    "# print(\"Rodada 23:\")\n",
    "# rodada = dataSetTeste.loc[dataSetTeste['time_rodada_anterior'] == 23]\n",
    "# rodada = rodada.loc[rodada['time_mando_campo'] == 1.0]\n",
    "# verificarResultado(rodada, 23)\n",
    "# rodada"
   ]
  },
  {
   "cell_type": "code",
   "execution_count": 79,
   "metadata": {},
   "outputs": [
    {
     "name": "stdout",
     "output_type": "stream",
     "text": [
      "Rodada 19\n",
      "['Jogo entre Botafogo e Athlético-PR']\n",
      "['Athlético-PR ganha!']\n",
      "\n",
      "['Jogo entre Fluminense e Bragantino']\n",
      "['Fluminense ganha!']\n",
      "\n",
      "['Jogo entre Coritiba e Cuiabá']\n",
      "['Cuiabá ganha!']\n",
      "\n",
      "['Jogo entre Juventude e Ceará']\n",
      "['Ceará ganha!']\n",
      "\n",
      "['Jogo entre São Paulo e Goiás']\n",
      "Empate!\n",
      "\n",
      "['Jogo entre Atlético-MG e Corinthians']\n",
      "Empate!\n",
      "\n",
      "['Jogo entre Avaí e Flamengo']\n",
      "['Flamengo ganha!']\n",
      "\n",
      "['Jogo entre Fortaleza e Santos']\n",
      "['Santos ganha!']\n",
      "\n",
      "['Jogo entre Atlético-GO e América-MG']\n",
      "['América-MG ganha!']\n",
      "\n",
      "['Jogo entre Palmeiras e Internacional']\n",
      "['Palmeiras ganha!']\n",
      "\n",
      "\n",
      "Rodada 20\n",
      "['Jogo entre Athlético-PR e São Paulo']\n",
      "['Athlético-PR ganha!']\n",
      "\n",
      "['Jogo entre Goiás e Coritiba']\n",
      "Empate!\n",
      "\n",
      "['Jogo entre América-MG e Avaí']\n",
      "['América-MG ganha!']\n",
      "\n",
      "['Jogo entre Cuiabá e Fortaleza']\n",
      "['Cuiabá ganha!']\n",
      "\n",
      "['Jogo entre Ceará e Palmeiras']\n",
      "Empate!\n",
      "\n",
      "['Jogo entre Flamengo e Atlético-GO']\n",
      "['Flamengo ganha!']\n",
      "\n",
      "['Jogo entre Corinthians e Botafogo']\n",
      "['Corinthians ganha!']\n",
      "\n",
      "['Jogo entre Santos e Fluminense']\n",
      "Empate!\n",
      "\n",
      "['Jogo entre Bragantino e Juventude']\n",
      "['Juventude ganha!']\n",
      "\n",
      "['Jogo entre Internacional e Atlético-MG']\n",
      "Empate!\n",
      "\n",
      "\n",
      "Rodada 21\n",
      "['Jogo entre Botafogo e Ceará']\n",
      "['Ceará ganha!']\n",
      "\n",
      "['Jogo entre Fluminense e Cuiabá']\n",
      "Empate!\n",
      "\n",
      "['Jogo entre Palmeiras e Goiás']\n",
      "['Palmeiras ganha!']\n",
      "\n",
      "['Jogo entre Juventude e América-MG']\n",
      "['América-MG ganha!']\n",
      "\n",
      "['Jogo entre Atlético-MG e Athlético-PR']\n",
      "Empate!\n",
      "\n",
      "['Jogo entre Coritiba e Santos']\n",
      "['Santos ganha!']\n",
      "\n",
      "['Jogo entre Fortaleza e Internacional']\n",
      "['Fortaleza ganha!']\n",
      "\n",
      "['Jogo entre São Paulo e Flamengo']\n",
      "['Flamengo ganha!']\n",
      "\n",
      "['Jogo entre Avaí e Corinthians']\n",
      "['Corinthians ganha!']\n",
      "\n",
      "['Jogo entre Atlético-GO e Bragantino']\n",
      "['Bragantino ganha!']\n",
      "\n",
      "\n",
      "Rodada 22\n",
      "['Jogo entre Internacional e Fluminense']\n",
      "Empate!\n",
      "\n",
      "['Jogo entre Coritiba e Atlético-MG']\n",
      "['Atlético-MG ganha!']\n",
      "\n",
      "['Jogo entre Flamengo e Athlético-PR']\n",
      "['Flamengo ganha!']\n",
      "\n",
      "['Jogo entre América-MG e Santos']\n",
      "['América-MG ganha!']\n",
      "\n",
      "['Jogo entre Corinthians e Palmeiras']\n",
      "['Corinthians ganha!']\n",
      "\n",
      "['Jogo entre Botafogo e Atlético-GO']\n",
      "['Atlético-GO ganha!']\n",
      "\n",
      "['Jogo entre São Paulo e Bragantino']\n",
      "['Bragantino ganha!']\n",
      "\n",
      "['Jogo entre Goiás e Avaí']\n",
      "['Avaí ganha!']\n",
      "\n",
      "['Jogo entre Ceará e Fortaleza']\n",
      "['Ceará ganha!']\n",
      "\n",
      "['Jogo entre Cuiabá e Juventude']\n",
      "['Juventude ganha!']\n",
      "\n",
      "\n",
      "Rodada 23\n",
      "['Jogo entre Bragantino e Ceará']\n",
      "['Ceará ganha!']\n",
      "\n",
      "['Jogo entre Juventude e Botafogo']\n",
      "['Botafogo ganha!']\n",
      "\n",
      "['Jogo entre Athlético-PR e América-MG']\n",
      "['Athlético-PR ganha!']\n",
      "\n",
      "['Jogo entre Avaí e Internacional']\n",
      "['Internacional ganha!']\n",
      "\n",
      "['Jogo entre Fluminense e Coritiba']\n",
      "['Coritiba ganha!']\n",
      "\n",
      "['Jogo entre Palmeiras e Flamengo']\n",
      "['Palmeiras ganha!']\n",
      "\n",
      "['Jogo entre Atlético-MG e Goiás']\n",
      "['Atlético-MG ganha!']\n",
      "\n",
      "['Jogo entre Atlético-GO e Cuiabá']\n",
      "['Cuiabá ganha!']\n",
      "\n",
      "['Jogo entre Santos e São Paulo']\n",
      "['São Paulo ganha!']\n",
      "\n",
      "['Jogo entre Fortaleza e Corinthians']\n",
      "Empate!\n",
      "\n",
      "\n"
     ]
    }
   ],
   "source": [
    "rodadasRepetidas = [dataSetTeste['time_Rodada'].values]\n",
    "rodadasFiltradas = []\n",
    "\n",
    "# Criando uma lista com os números das rodadas para previsão\n",
    "for i in rodadasRepetidas[0]:\n",
    "    if not(i in rodadasFiltradas):\n",
    "        rodadasFiltradas.append(i)\n",
    "\n",
    "rodadasFiltradas.pop()\n",
    "# Resultados de todas as rodadas que utilizamos para prever\n",
    "for i in rodadasFiltradas:\n",
    "    rodada = dataSetTeste.loc[dataSetTeste['time_Rodada'] == i]\n",
    "    rodada = rodada.loc[rodada['time_mando_campo'] == 1.0]\n",
    "    print(\"Rodada \" + str(i))\n",
    "    verificarResultado(rodada, i)\n",
    "    print()\n",
    "\n"
   ]
  }
 ],
 "metadata": {
  "kernelspec": {
   "display_name": "Python 3.10.4 64-bit",
   "language": "python",
   "name": "python3"
  },
  "language_info": {
   "codemirror_mode": {
    "name": "ipython",
    "version": 3
   },
   "file_extension": ".py",
   "mimetype": "text/x-python",
   "name": "python",
   "nbconvert_exporter": "python",
   "pygments_lexer": "ipython3",
   "version": "3.10.4"
  },
  "orig_nbformat": 4,
  "vscode": {
   "interpreter": {
    "hash": "35fddcc3cecf8ec32b60c2df0f0e9dc01da323d81d8d91697dac61b2c06b5614"
   }
  }
 },
 "nbformat": 4,
 "nbformat_minor": 2
}
